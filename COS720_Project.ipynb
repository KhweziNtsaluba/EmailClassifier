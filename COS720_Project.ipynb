{
  "nbformat": 4,
  "nbformat_minor": 0,
  "metadata": {
    "colab": {
      "provenance": [],
      "collapsed_sections": [
        "gUnhTUIU5vWQ",
        "OW6hdUpj9uOy",
        "oMMFwhwx-sI5"
      ]
    },
    "kernelspec": {
      "name": "python3",
      "display_name": "Python 3"
    },
    "language_info": {
      "name": "python"
    }
  },
  "cells": [
    {
      "cell_type": "markdown",
      "source": [
        "# Pre-Processing"
      ],
      "metadata": {
        "id": "WxIpez3j5jzt"
      }
    },
    {
      "cell_type": "code",
      "source": [
        "from google.colab import drive\n",
        "from google.colab import files\n",
        "\n",
        "drive.mount(\"/content/drive\")"
      ],
      "metadata": {
        "id": "11YpxdPlM5th",
        "colab": {
          "base_uri": "https://localhost:8080/"
        },
        "outputId": "7524bc9c-cc73-4e80-94cb-ac1e45f351e9"
      },
      "execution_count": 34,
      "outputs": [
        {
          "output_type": "stream",
          "name": "stdout",
          "text": [
            "Drive already mounted at /content/drive; to attempt to forcibly remount, call drive.mount(\"/content/drive\", force_remount=True).\n"
          ]
        }
      ]
    },
    {
      "cell_type": "code",
      "source": [
        "import pandas as pd\n",
        "import re\n",
        "import csv\n",
        "import sys\n",
        "import uuid\n",
        "import numpy as np\n",
        "from sklearn.feature_extraction.text import CountVectorizer, TfidfVectorizer # Bag of Words: Term Frequencey and TFIDF\n",
        "from sklearn.model_selection import train_test_split\n",
        "from sklearn.linear_model import LogisticRegression\n",
        "from sklearn.model_selection import cross_val_score\n",
        "from sklearn.metrics import f1_score\n",
        "\n",
        "# Regex Expressions\n",
        "REGEX_PATTERNS = {\n",
        "    'currency': r'[$€£¥]\\s*\\d+(?:[.,]\\d+)?|\\d+(?:[.,]\\d+)?\\s*(?:USD|EUR|GBP|JPY|CAD|AUD|CHF)',\n",
        "\n",
        "    'time': r'\\b(?:[01]?\\d|2[0-3]):[0-5]\\d(?::[0-5]\\d)?(?:\\s*[aApP][mM])?\\b',\n",
        "\n",
        "    'day' : r'(?i) (sun|mon|tue(s)?|wed(nesday)?|thu(r(s)?)?|fri)(day|\\.)? ', # note the spaces at the beginning and end\n",
        "\n",
        "    'date': r'(?i)\\b(?:\\d{1,2}[-\\/\\.]\\d{1,2}[-\\/\\.]\\d{2,4}|\\d{4}[-\\/\\.]\\d{1,2}[-\\/\\.]\\d{1,2}|(?:Jan|Feb|Mar|Apr|May|Jun|Jul|Aug|Sep|Oct|Nov|Dec)[a-z]*\\s+\\d{1,2}(?:[a-z]{2})?,?\\s+\\d{2,4}|\\d{1,2}\\s+(?:Jan|Feb|Mar|Apr|May|Jun|Jul|Aug|Sep|Oct|Nov|Dec)[a-z]*,?\\s+\\d{2,4}|(?:Jan|Feb|Mar|Apr|May|Jun|Jul|Aug|Sep|Oct|Nov|Dec)[a-z]*\\s+\\d{1,2}(?:\\s?[—-]\\s?\\d{1,2})?)\\b',\n",
        "\n",
        "    'phone': r'^(\\+\\d{1,2}\\s)?\\(?\\d{3}\\)?[\\s.-]\\d{3}[\\s.-]\\d{4}$',\n",
        "\n",
        "    'percentage': r'\\b(?<!\\.)(?!0+(?:\\.0+)?%)(?:\\d|[1-9]\\d|100)(?:(?<!100)\\.\\d+)?%',\n",
        "\n",
        "    'number': r'\\b\\d+(?:[.,]\\d+)?\\b',\n",
        "\n",
        "    'email': r'(?:[a-z0-9!#$%&\\'*+/=?^_`{|}~-]+(?:\\.[a-z0-9!#$%&\\'*+/=?^_`{|}~-]+)*|\"(?:[\\x01-\\x08\\x0b\\x0c\\x0e-\\x1f\\x21\\x23-\\x5b\\x5d-\\x7f]|\\\\[\\x01-\\x09\\x0b\\x0c\\x0e-\\x7f])*\")@(?:(?:[a-z0-9](?:[a-z0-9-]*[a-z0-9])?\\.)+[a-z0-9](?:[a-z0-9-]*[a-z0-9])?|\\[(?:(?:(2(5[0-5]|[0-4][0-9])|1[0-9][0-9]|[1-9]?[0-9]))\\.){3}(?:(2(5[0-5]|[0-4][0-9])|1[0-9][0-9]|[1-9]?[0-9])|[a-z0-9-]*[a-z0-9]:(?:[\\x01-\\x08\\x0b\\x0c\\x0e-\\x1f\\x21-\\x5a\\x53-\\x7f]|\\\\[\\x01-\\x09\\x0b\\x0c\\x0e-\\x7f])+)\\])',\n",
        "\n",
        "    'url' : r'http[s]?://(?:[a-zA-Z]|[0-9]|[$-_@.&+]|[!*\\\\(\\\\),]|(?:%[0-9a-fA-F][0-9a-fA-F]))+'\n",
        "}"
      ],
      "metadata": {
        "id": "0OPt8T6vAZf9"
      },
      "execution_count": 35,
      "outputs": []
    },
    {
      "cell_type": "markdown",
      "source": [
        "## Load Dataset(s)"
      ],
      "metadata": {
        "id": "gUnhTUIU5vWQ"
      }
    },
    {
      "cell_type": "code",
      "execution_count": 36,
      "metadata": {
        "id": "0q2iy7O63Ycl"
      },
      "outputs": [],
      "source": [
        "\n",
        "pd.set_option('display.max_colwidth', None)\n",
        "csv.field_size_limit(sys.maxsize)\n",
        "\n",
        "file_paths = {'/content/drive/MyDrive/COS720 Project/Datasets/CEAS_08.csv',\n",
        "              '/content/drive/MyDrive/COS720 Project/Datasets/Nigerian_Fraud.csv',\n",
        "              '/content/drive/MyDrive/COS720 Project/Datasets/Ling.csv'}\n",
        "\n",
        "def load_email_data(file_path):\n",
        "\n",
        "  with open(file_path, 'r', encoding='utf-8', errors='replace') as f:\n",
        "        reader = csv.reader(f, quotechar='\"', escapechar='\\\\')\n",
        "        headers = next(reader)\n",
        "        data = []\n",
        "        for row in reader:\n",
        "            if len(row) == len(headers):\n",
        "                data.append(row)\n",
        "            else:\n",
        "                print(f\"Skipping malformed row: {row}\")\n",
        "\n",
        "        df = pd.DataFrame(data, columns=headers)\n",
        "        print(f\"Loaded data with fallback method: {len(df)} rows\")\n",
        "        return df"
      ]
    },
    {
      "cell_type": "markdown",
      "source": [
        "## Clean Data"
      ],
      "metadata": {
        "id": "VJsKhXRF5lYC"
      }
    },
    {
      "cell_type": "markdown",
      "source": [
        "### Extract emails from body"
      ],
      "metadata": {
        "id": "c7kQa4IU9mEX"
      }
    },
    {
      "cell_type": "markdown",
      "source": [
        "### Converting to lowercase"
      ],
      "metadata": {
        "id": "OW6hdUpj9uOy"
      }
    },
    {
      "cell_type": "code",
      "source": [
        "def to_lowercase(df, text_column='body'):\n",
        "  df_copy = df.copy()\n",
        "\n",
        "  df_copy[text_column] = df_copy[text_column].apply(\n",
        "      lambda x: x.lower() if isinstance(x, str) else x\n",
        "  )\n",
        "\n",
        "  return df_copy"
      ],
      "metadata": {
        "id": "QuHJ8f1fQnCO"
      },
      "execution_count": 37,
      "outputs": []
    },
    {
      "cell_type": "markdown",
      "source": [
        "### Replacing text with classes"
      ],
      "metadata": {
        "id": "Xwg8eDrk-UR4"
      }
    },
    {
      "cell_type": "code",
      "source": [
        "## We replace currency with <CUR>, time with <TIME>, date with <DATE>, phone numbers with <PHONE>, percentages with <PERC>, and other general numbers that do not fall into the previous categories with <NUM>\n",
        "\n",
        "def replace_data_categories(text):\n",
        "    modified_text = text\n",
        "\n",
        "    # Replace each type in order (specific to general)\n",
        "    modified_text = re.sub(REGEX_PATTERNS['currency'], '<cur>', modified_text) # currency\n",
        "    modified_text = re.sub(REGEX_PATTERNS['time'], '<time>', modified_text) # times\n",
        "    modified_text = re.sub(REGEX_PATTERNS['day'], '<day>', modified_text) # times\n",
        "    modified_text = re.sub(REGEX_PATTERNS['date'], '<date>', modified_text) # dates\n",
        "    modified_text = re.sub(REGEX_PATTERNS['phone'], '<phone>', modified_text) # phone numbers\n",
        "    modified_text = re.sub(REGEX_PATTERNS['percentage'], '<perc>', modified_text) # percentages\n",
        "    modified_text = re.sub(REGEX_PATTERNS['number'], '<num>', modified_text) # general numbers\n",
        "\n",
        "    return modified_text"
      ],
      "metadata": {
        "id": "XkvZ8Ad1RQsP"
      },
      "execution_count": 38,
      "outputs": []
    },
    {
      "cell_type": "markdown",
      "source": [
        "### Extract emails data"
      ],
      "metadata": {
        "id": "sJ95FCTljRuS"
      }
    },
    {
      "cell_type": "code",
      "source": [
        "import math\n",
        "from urllib.parse import urlparse, parse_qs\n",
        "\n",
        "class UrlFeaturizer(object):\n",
        "\n",
        "    def setUrl(self, url):\n",
        "      self.url = url\n",
        "      self.domain = url.split('//')[-1].split('/')[0]\n",
        "      self.errCount = 0\n",
        "\n",
        "    def entropy(self):\n",
        "        string = self.url.strip()\n",
        "        prob = [float(string.count(c)) / len(string) for c in dict.fromkeys(list(string))]\n",
        "        entropy = -sum([(p * math.log(p) / math.log(2.0)) for p in prob])\n",
        "        return entropy\n",
        "\n",
        "    def numDigits(self):\n",
        "        digits = [i for i in self.url if i.isdigit()]\n",
        "        return len(digits)\n",
        "\n",
        "    def urlLength(self):\n",
        "        return len(self.url)\n",
        "\n",
        "    def numParameters(self):\n",
        "        try:\n",
        "          query = urlparse(self.url).query\n",
        "          if not query:\n",
        "              return 0\n",
        "          params = parse_qs(query)\n",
        "          return len(params)\n",
        "        except ValueError:\n",
        "          self.errCount += 1\n",
        "          return 0\n",
        "\n",
        "\n",
        "    def numFragments(self):\n",
        "        fragments = self.url.split('#')\n",
        "        return len(fragments) - 1\n",
        "\n",
        "    def numSubDomains(self):\n",
        "      try:\n",
        "        hostname = urlparse(self.url).hostname\n",
        "        if not hostname:\n",
        "            return 0\n",
        "        parts = hostname.split('.')\n",
        "        if len(parts) <= 2:\n",
        "            return 0\n",
        "        return len(parts) - 2\n",
        "      except ValueError:\n",
        "        self.errCount += 1\n",
        "        return 0\n",
        "\n",
        "    def hasHttp(self):\n",
        "        return 'http:' in self.url\n",
        "\n",
        "    def hasHttps(self):\n",
        "        return 'https:' in self.url\n",
        "\n",
        "    def run(self):\n",
        "        data = {}\n",
        "        data['entropy'] = self.entropy()\n",
        "        data['numDigits'] = self.numDigits()\n",
        "        data['urlLength'] = self.urlLength()\n",
        "        data['numParams'] = self.numParameters()\n",
        "        data['hasHttp'] = int(self.hasHttp())\n",
        "        data['hasHttps'] = int(self.hasHttps())\n",
        "        data['numFragments'] = self.numFragments()\n",
        "        data['numSubDomains'] = self.numSubDomains()\n",
        "        data['num_%20'] = self.url.count(\"%20\")\n",
        "        data['num_@'] = self.url.count(\"@\")\n",
        "\n",
        "\n",
        "        return data\n",
        "\n",
        "def process_url_data(url_df):\n",
        "  featurizer = UrlFeaturizer()\n",
        "  features_list = []\n",
        "\n",
        "  for _, row in url_df.iterrows():\n",
        "      email_id = row['email_id']\n",
        "      url = row['url']\n",
        "      label = row['label']\n",
        "\n",
        "      featurizer.setUrl(url)\n",
        "      features = featurizer.run()\n",
        "      features['label'] = label\n",
        "\n",
        "      features_list.append(features)\n",
        "\n",
        "\n",
        "  url_features_df = pd.DataFrame(features_list)\n",
        "  return url_features_df"
      ],
      "metadata": {
        "id": "tDBM4fnQzjod"
      },
      "execution_count": 39,
      "outputs": []
    },
    {
      "cell_type": "code",
      "source": [
        "def extract_urls_from_text(text):\n",
        "    if not isinstance(text, str):\n",
        "        return []\n",
        "\n",
        "    url_pattern = re.compile(REGEX_PATTERNS['url'])\n",
        "    return url_pattern.findall(text)\n",
        "\n",
        "def replace_urls_with_tag(text):\n",
        "    if not isinstance(text, str):\n",
        "        return text\n",
        "\n",
        "    url_pattern = re.compile(REGEX_PATTERNS['url'])\n",
        "    return url_pattern.sub('<url>', text) #  Replace all URLs in text with <URL> tag\n",
        "\n",
        "\n",
        "def process_email_data(df):\n",
        "\n",
        "    print(f\"Original dataframe shape: {df.shape}\")\n",
        "    print(f\"Columns: {df.columns.tolist()}\")\n",
        "\n",
        "    url_data = []\n",
        "\n",
        "    # id to link URLs back to emails\n",
        "    df['email_id'] = [str(uuid.uuid4()) for _ in range(len(df))]\n",
        "\n",
        "    # Extract and replace URLs -- Subject to further processing\n",
        "    for idx, row in df.iterrows():\n",
        "        email_id = row['email_id']\n",
        "        body = row['body']\n",
        "        label = row['label']\n",
        "\n",
        "        urls = extract_urls_from_text(body)\n",
        "\n",
        "        for url in urls:\n",
        "            url_data.append({\n",
        "                'email_id': email_id,\n",
        "                'url': url,\n",
        "                'label': label\n",
        "            })\n",
        "\n",
        "        # Replace urls\n",
        "        modified_body = replace_urls_with_tag(body)\n",
        "\n",
        "        # Replace data categories\n",
        "        modified_body = replace_data_categories(modified_body)\n",
        "\n",
        "        df.at[idx, 'body'] = modified_body\n",
        "\n",
        "    df = to_lowercase(df)\n",
        "\n",
        "    url_df = pd.DataFrame(url_data) # Create URL dataframe\n",
        "\n",
        "    print(f\"Modified dataframe shape: {df.shape}\")\n",
        "    print(f\"Columns: {df.columns.tolist()}\")\n",
        "    print(f\"URL dataframe shape: {url_df.shape}\")\n",
        "\n",
        "    return df, url_df\n",
        "\n",
        "data_frames = []\n",
        "\n",
        "for file_path in file_paths:\n",
        "     data_frames.append(load_email_data(file_path))\n",
        "\n",
        "combined_df = pd.concat(data_frames, join='outer', ignore_index=True)\n",
        "combined_df['label'] = combined_df['label'].astype(int)\n",
        "combined_df, url_df = process_email_data(combined_df)\n",
        "url_features_df = process_url_data(url_df)\n",
        "\n",
        "print(combined_df.shape)"
      ],
      "metadata": {
        "id": "8HzBqkV7-_h0"
      },
      "execution_count": null,
      "outputs": []
    },
    {
      "cell_type": "markdown",
      "source": [
        "### Splitting data"
      ],
      "metadata": {
        "id": "kaw84eMgQtHJ"
      }
    },
    {
      "cell_type": "code",
      "source": [
        "# Split body into test and train subsets\n",
        "X_train, X_test, target_train, target_test = train_test_split(combined_df['body'], combined_df['label'], train_size=0.7, random_state=1)\n",
        "\n",
        "# Split urls int test and train subsets\n",
        "X = url_features_df.drop(columns=['label'])   # exclude label from features\n",
        "y = url_features_df['label']\n",
        "X_train_url, X_test_url, target_train_url, target_test_url = train_test_split(\n",
        "    X, y, train_size=0.7, random_state=1\n",
        ")\n",
        "print(y.dtype)\n",
        "X_train_url.head()"
      ],
      "metadata": {
        "id": "JGaKlWAnQ1eP",
        "colab": {
          "base_uri": "https://localhost:8080/",
          "height": 243
        },
        "outputId": "1a8573d5-e98a-4ad7-8d86-eff45471418e"
      },
      "execution_count": 41,
      "outputs": [
        {
          "output_type": "stream",
          "name": "stdout",
          "text": [
            "int64\n"
          ]
        },
        {
          "output_type": "execute_result",
          "data": {
            "text/plain": [
              "         entropy  numDigits  urlLength  numParams  hasHttp  hasHttps  \\\n",
              "93698   4.296229          8         62          0        1         0   \n",
              "1981    3.534219          0         23          0        1         0   \n",
              "114875  4.465167         73        152          6        1         0   \n",
              "2338    4.246982          8         65          0        1         0   \n",
              "36916   3.943943          0         40          0        1         0   \n",
              "\n",
              "        numFragments  numSubDomains  num_%20  num_@  \n",
              "93698              0              1        0      0  \n",
              "1981               0              1        0      0  \n",
              "114875             0              1        0      0  \n",
              "2338               0              1        0      0  \n",
              "36916              0              1        0      0  "
            ],
            "text/html": [
              "\n",
              "  <div id=\"df-c8f39c95-318c-4d56-883d-01c2323e2338\" class=\"colab-df-container\">\n",
              "    <div>\n",
              "<style scoped>\n",
              "    .dataframe tbody tr th:only-of-type {\n",
              "        vertical-align: middle;\n",
              "    }\n",
              "\n",
              "    .dataframe tbody tr th {\n",
              "        vertical-align: top;\n",
              "    }\n",
              "\n",
              "    .dataframe thead th {\n",
              "        text-align: right;\n",
              "    }\n",
              "</style>\n",
              "<table border=\"1\" class=\"dataframe\">\n",
              "  <thead>\n",
              "    <tr style=\"text-align: right;\">\n",
              "      <th></th>\n",
              "      <th>entropy</th>\n",
              "      <th>numDigits</th>\n",
              "      <th>urlLength</th>\n",
              "      <th>numParams</th>\n",
              "      <th>hasHttp</th>\n",
              "      <th>hasHttps</th>\n",
              "      <th>numFragments</th>\n",
              "      <th>numSubDomains</th>\n",
              "      <th>num_%20</th>\n",
              "      <th>num_@</th>\n",
              "    </tr>\n",
              "  </thead>\n",
              "  <tbody>\n",
              "    <tr>\n",
              "      <th>93698</th>\n",
              "      <td>4.296229</td>\n",
              "      <td>8</td>\n",
              "      <td>62</td>\n",
              "      <td>0</td>\n",
              "      <td>1</td>\n",
              "      <td>0</td>\n",
              "      <td>0</td>\n",
              "      <td>1</td>\n",
              "      <td>0</td>\n",
              "      <td>0</td>\n",
              "    </tr>\n",
              "    <tr>\n",
              "      <th>1981</th>\n",
              "      <td>3.534219</td>\n",
              "      <td>0</td>\n",
              "      <td>23</td>\n",
              "      <td>0</td>\n",
              "      <td>1</td>\n",
              "      <td>0</td>\n",
              "      <td>0</td>\n",
              "      <td>1</td>\n",
              "      <td>0</td>\n",
              "      <td>0</td>\n",
              "    </tr>\n",
              "    <tr>\n",
              "      <th>114875</th>\n",
              "      <td>4.465167</td>\n",
              "      <td>73</td>\n",
              "      <td>152</td>\n",
              "      <td>6</td>\n",
              "      <td>1</td>\n",
              "      <td>0</td>\n",
              "      <td>0</td>\n",
              "      <td>1</td>\n",
              "      <td>0</td>\n",
              "      <td>0</td>\n",
              "    </tr>\n",
              "    <tr>\n",
              "      <th>2338</th>\n",
              "      <td>4.246982</td>\n",
              "      <td>8</td>\n",
              "      <td>65</td>\n",
              "      <td>0</td>\n",
              "      <td>1</td>\n",
              "      <td>0</td>\n",
              "      <td>0</td>\n",
              "      <td>1</td>\n",
              "      <td>0</td>\n",
              "      <td>0</td>\n",
              "    </tr>\n",
              "    <tr>\n",
              "      <th>36916</th>\n",
              "      <td>3.943943</td>\n",
              "      <td>0</td>\n",
              "      <td>40</td>\n",
              "      <td>0</td>\n",
              "      <td>1</td>\n",
              "      <td>0</td>\n",
              "      <td>0</td>\n",
              "      <td>1</td>\n",
              "      <td>0</td>\n",
              "      <td>0</td>\n",
              "    </tr>\n",
              "  </tbody>\n",
              "</table>\n",
              "</div>\n",
              "    <div class=\"colab-df-buttons\">\n",
              "\n",
              "  <div class=\"colab-df-container\">\n",
              "    <button class=\"colab-df-convert\" onclick=\"convertToInteractive('df-c8f39c95-318c-4d56-883d-01c2323e2338')\"\n",
              "            title=\"Convert this dataframe to an interactive table.\"\n",
              "            style=\"display:none;\">\n",
              "\n",
              "  <svg xmlns=\"http://www.w3.org/2000/svg\" height=\"24px\" viewBox=\"0 -960 960 960\">\n",
              "    <path d=\"M120-120v-720h720v720H120Zm60-500h600v-160H180v160Zm220 220h160v-160H400v160Zm0 220h160v-160H400v160ZM180-400h160v-160H180v160Zm440 0h160v-160H620v160ZM180-180h160v-160H180v160Zm440 0h160v-160H620v160Z\"/>\n",
              "  </svg>\n",
              "    </button>\n",
              "\n",
              "  <style>\n",
              "    .colab-df-container {\n",
              "      display:flex;\n",
              "      gap: 12px;\n",
              "    }\n",
              "\n",
              "    .colab-df-convert {\n",
              "      background-color: #E8F0FE;\n",
              "      border: none;\n",
              "      border-radius: 50%;\n",
              "      cursor: pointer;\n",
              "      display: none;\n",
              "      fill: #1967D2;\n",
              "      height: 32px;\n",
              "      padding: 0 0 0 0;\n",
              "      width: 32px;\n",
              "    }\n",
              "\n",
              "    .colab-df-convert:hover {\n",
              "      background-color: #E2EBFA;\n",
              "      box-shadow: 0px 1px 2px rgba(60, 64, 67, 0.3), 0px 1px 3px 1px rgba(60, 64, 67, 0.15);\n",
              "      fill: #174EA6;\n",
              "    }\n",
              "\n",
              "    .colab-df-buttons div {\n",
              "      margin-bottom: 4px;\n",
              "    }\n",
              "\n",
              "    [theme=dark] .colab-df-convert {\n",
              "      background-color: #3B4455;\n",
              "      fill: #D2E3FC;\n",
              "    }\n",
              "\n",
              "    [theme=dark] .colab-df-convert:hover {\n",
              "      background-color: #434B5C;\n",
              "      box-shadow: 0px 1px 3px 1px rgba(0, 0, 0, 0.15);\n",
              "      filter: drop-shadow(0px 1px 2px rgba(0, 0, 0, 0.3));\n",
              "      fill: #FFFFFF;\n",
              "    }\n",
              "  </style>\n",
              "\n",
              "    <script>\n",
              "      const buttonEl =\n",
              "        document.querySelector('#df-c8f39c95-318c-4d56-883d-01c2323e2338 button.colab-df-convert');\n",
              "      buttonEl.style.display =\n",
              "        google.colab.kernel.accessAllowed ? 'block' : 'none';\n",
              "\n",
              "      async function convertToInteractive(key) {\n",
              "        const element = document.querySelector('#df-c8f39c95-318c-4d56-883d-01c2323e2338');\n",
              "        const dataTable =\n",
              "          await google.colab.kernel.invokeFunction('convertToInteractive',\n",
              "                                                    [key], {});\n",
              "        if (!dataTable) return;\n",
              "\n",
              "        const docLinkHtml = 'Like what you see? Visit the ' +\n",
              "          '<a target=\"_blank\" href=https://colab.research.google.com/notebooks/data_table.ipynb>data table notebook</a>'\n",
              "          + ' to learn more about interactive tables.';\n",
              "        element.innerHTML = '';\n",
              "        dataTable['output_type'] = 'display_data';\n",
              "        await google.colab.output.renderOutput(dataTable, element);\n",
              "        const docLink = document.createElement('div');\n",
              "        docLink.innerHTML = docLinkHtml;\n",
              "        element.appendChild(docLink);\n",
              "      }\n",
              "    </script>\n",
              "  </div>\n",
              "\n",
              "\n",
              "    <div id=\"df-f5790130-508c-4533-ac0f-bec1bccc8708\">\n",
              "      <button class=\"colab-df-quickchart\" onclick=\"quickchart('df-f5790130-508c-4533-ac0f-bec1bccc8708')\"\n",
              "                title=\"Suggest charts\"\n",
              "                style=\"display:none;\">\n",
              "\n",
              "<svg xmlns=\"http://www.w3.org/2000/svg\" height=\"24px\"viewBox=\"0 0 24 24\"\n",
              "     width=\"24px\">\n",
              "    <g>\n",
              "        <path d=\"M19 3H5c-1.1 0-2 .9-2 2v14c0 1.1.9 2 2 2h14c1.1 0 2-.9 2-2V5c0-1.1-.9-2-2-2zM9 17H7v-7h2v7zm4 0h-2V7h2v10zm4 0h-2v-4h2v4z\"/>\n",
              "    </g>\n",
              "</svg>\n",
              "      </button>\n",
              "\n",
              "<style>\n",
              "  .colab-df-quickchart {\n",
              "      --bg-color: #E8F0FE;\n",
              "      --fill-color: #1967D2;\n",
              "      --hover-bg-color: #E2EBFA;\n",
              "      --hover-fill-color: #174EA6;\n",
              "      --disabled-fill-color: #AAA;\n",
              "      --disabled-bg-color: #DDD;\n",
              "  }\n",
              "\n",
              "  [theme=dark] .colab-df-quickchart {\n",
              "      --bg-color: #3B4455;\n",
              "      --fill-color: #D2E3FC;\n",
              "      --hover-bg-color: #434B5C;\n",
              "      --hover-fill-color: #FFFFFF;\n",
              "      --disabled-bg-color: #3B4455;\n",
              "      --disabled-fill-color: #666;\n",
              "  }\n",
              "\n",
              "  .colab-df-quickchart {\n",
              "    background-color: var(--bg-color);\n",
              "    border: none;\n",
              "    border-radius: 50%;\n",
              "    cursor: pointer;\n",
              "    display: none;\n",
              "    fill: var(--fill-color);\n",
              "    height: 32px;\n",
              "    padding: 0;\n",
              "    width: 32px;\n",
              "  }\n",
              "\n",
              "  .colab-df-quickchart:hover {\n",
              "    background-color: var(--hover-bg-color);\n",
              "    box-shadow: 0 1px 2px rgba(60, 64, 67, 0.3), 0 1px 3px 1px rgba(60, 64, 67, 0.15);\n",
              "    fill: var(--button-hover-fill-color);\n",
              "  }\n",
              "\n",
              "  .colab-df-quickchart-complete:disabled,\n",
              "  .colab-df-quickchart-complete:disabled:hover {\n",
              "    background-color: var(--disabled-bg-color);\n",
              "    fill: var(--disabled-fill-color);\n",
              "    box-shadow: none;\n",
              "  }\n",
              "\n",
              "  .colab-df-spinner {\n",
              "    border: 2px solid var(--fill-color);\n",
              "    border-color: transparent;\n",
              "    border-bottom-color: var(--fill-color);\n",
              "    animation:\n",
              "      spin 1s steps(1) infinite;\n",
              "  }\n",
              "\n",
              "  @keyframes spin {\n",
              "    0% {\n",
              "      border-color: transparent;\n",
              "      border-bottom-color: var(--fill-color);\n",
              "      border-left-color: var(--fill-color);\n",
              "    }\n",
              "    20% {\n",
              "      border-color: transparent;\n",
              "      border-left-color: var(--fill-color);\n",
              "      border-top-color: var(--fill-color);\n",
              "    }\n",
              "    30% {\n",
              "      border-color: transparent;\n",
              "      border-left-color: var(--fill-color);\n",
              "      border-top-color: var(--fill-color);\n",
              "      border-right-color: var(--fill-color);\n",
              "    }\n",
              "    40% {\n",
              "      border-color: transparent;\n",
              "      border-right-color: var(--fill-color);\n",
              "      border-top-color: var(--fill-color);\n",
              "    }\n",
              "    60% {\n",
              "      border-color: transparent;\n",
              "      border-right-color: var(--fill-color);\n",
              "    }\n",
              "    80% {\n",
              "      border-color: transparent;\n",
              "      border-right-color: var(--fill-color);\n",
              "      border-bottom-color: var(--fill-color);\n",
              "    }\n",
              "    90% {\n",
              "      border-color: transparent;\n",
              "      border-bottom-color: var(--fill-color);\n",
              "    }\n",
              "  }\n",
              "</style>\n",
              "\n",
              "      <script>\n",
              "        async function quickchart(key) {\n",
              "          const quickchartButtonEl =\n",
              "            document.querySelector('#' + key + ' button');\n",
              "          quickchartButtonEl.disabled = true;  // To prevent multiple clicks.\n",
              "          quickchartButtonEl.classList.add('colab-df-spinner');\n",
              "          try {\n",
              "            const charts = await google.colab.kernel.invokeFunction(\n",
              "                'suggestCharts', [key], {});\n",
              "          } catch (error) {\n",
              "            console.error('Error during call to suggestCharts:', error);\n",
              "          }\n",
              "          quickchartButtonEl.classList.remove('colab-df-spinner');\n",
              "          quickchartButtonEl.classList.add('colab-df-quickchart-complete');\n",
              "        }\n",
              "        (() => {\n",
              "          let quickchartButtonEl =\n",
              "            document.querySelector('#df-f5790130-508c-4533-ac0f-bec1bccc8708 button');\n",
              "          quickchartButtonEl.style.display =\n",
              "            google.colab.kernel.accessAllowed ? 'block' : 'none';\n",
              "        })();\n",
              "      </script>\n",
              "    </div>\n",
              "\n",
              "    </div>\n",
              "  </div>\n"
            ],
            "application/vnd.google.colaboratory.intrinsic+json": {
              "type": "dataframe",
              "variable_name": "X_train_url",
              "summary": "{\n  \"name\": \"X_train_url\",\n  \"rows\": 92890,\n  \"fields\": [\n    {\n      \"column\": \"entropy\",\n      \"properties\": {\n        \"dtype\": \"number\",\n        \"std\": 0.36526409505875157,\n        \"min\": 2.663532754804255,\n        \"max\": 5.900080258139258,\n        \"num_unique_values\": 12742,\n        \"samples\": [\n          4.980586425105013,\n          3.9232314287976204,\n          4.46299398428717\n        ],\n        \"semantic_type\": \"\",\n        \"description\": \"\"\n      }\n    },\n    {\n      \"column\": \"numDigits\",\n      \"properties\": {\n        \"dtype\": \"number\",\n        \"std\": 9,\n        \"min\": 0,\n        \"max\": 139,\n        \"num_unique_values\": 68,\n        \"samples\": [\n          34,\n          15,\n          18\n        ],\n        \"semantic_type\": \"\",\n        \"description\": \"\"\n      }\n    },\n    {\n      \"column\": \"urlLength\",\n      \"properties\": {\n        \"dtype\": \"number\",\n        \"std\": 32,\n        \"min\": 9,\n        \"max\": 350,\n        \"num_unique_values\": 212,\n        \"samples\": [\n          24,\n          12,\n          141\n        ],\n        \"semantic_type\": \"\",\n        \"description\": \"\"\n      }\n    },\n    {\n      \"column\": \"numParams\",\n      \"properties\": {\n        \"dtype\": \"number\",\n        \"std\": 0,\n        \"min\": 0,\n        \"max\": 12,\n        \"num_unique_values\": 12,\n        \"samples\": [\n          11,\n          9,\n          0\n        ],\n        \"semantic_type\": \"\",\n        \"description\": \"\"\n      }\n    },\n    {\n      \"column\": \"hasHttp\",\n      \"properties\": {\n        \"dtype\": \"number\",\n        \"std\": 0,\n        \"min\": 0,\n        \"max\": 1,\n        \"num_unique_values\": 2,\n        \"samples\": [\n          0,\n          1\n        ],\n        \"semantic_type\": \"\",\n        \"description\": \"\"\n      }\n    },\n    {\n      \"column\": \"hasHttps\",\n      \"properties\": {\n        \"dtype\": \"number\",\n        \"std\": 0,\n        \"min\": 0,\n        \"max\": 1,\n        \"num_unique_values\": 2,\n        \"samples\": [\n          1,\n          0\n        ],\n        \"semantic_type\": \"\",\n        \"description\": \"\"\n      }\n    },\n    {\n      \"column\": \"numFragments\",\n      \"properties\": {\n        \"dtype\": \"number\",\n        \"std\": 0,\n        \"min\": 0,\n        \"max\": 0,\n        \"num_unique_values\": 1,\n        \"samples\": [\n          0\n        ],\n        \"semantic_type\": \"\",\n        \"description\": \"\"\n      }\n    },\n    {\n      \"column\": \"numSubDomains\",\n      \"properties\": {\n        \"dtype\": \"number\",\n        \"std\": 0,\n        \"min\": 0,\n        \"max\": 4,\n        \"num_unique_values\": 5,\n        \"samples\": [\n          0\n        ],\n        \"semantic_type\": \"\",\n        \"description\": \"\"\n      }\n    },\n    {\n      \"column\": \"num_%20\",\n      \"properties\": {\n        \"dtype\": \"number\",\n        \"std\": 0,\n        \"min\": 0,\n        \"max\": 8,\n        \"num_unique_values\": 9,\n        \"samples\": [\n          4\n        ],\n        \"semantic_type\": \"\",\n        \"description\": \"\"\n      }\n    },\n    {\n      \"column\": \"num_@\",\n      \"properties\": {\n        \"dtype\": \"number\",\n        \"std\": 0,\n        \"min\": 0,\n        \"max\": 6,\n        \"num_unique_values\": 4,\n        \"samples\": [\n          1\n        ],\n        \"semantic_type\": \"\",\n        \"description\": \"\"\n      }\n    }\n  ]\n}"
            }
          },
          "metadata": {},
          "execution_count": 41
        }
      ]
    },
    {
      "cell_type": "markdown",
      "source": [
        "### Removing non-word and non special characters"
      ],
      "metadata": {
        "id": "6qDy4reI-Gq1"
      }
    },
    {
      "cell_type": "markdown",
      "source": [
        "### Tokenization and Vectorization"
      ],
      "metadata": {
        "id": "oMMFwhwx-sI5"
      }
    },
    {
      "cell_type": "code",
      "source": [
        "# Initialize vecotrizer\n",
        "def initialise_tfidf_vectorizer(data, max_features = 2000):\n",
        "    vectorizer_tfidf = TfidfVectorizer(stop_words='english', max_features=max_features) # remove stop words\n",
        "    vectorizer_tfidf.fit(data)\n",
        "    X = vectorizer_tfidf.transform(data)\n",
        "    return X, vectorizer_tfidf\n",
        "\n",
        "X_train_tfidf, vectorizer_tfidf = initialise_tfidf_vectorizer(X_train)"
      ],
      "metadata": {
        "id": "1ZhMYOP_Tg3-"
      },
      "execution_count": 42,
      "outputs": []
    },
    {
      "cell_type": "markdown",
      "source": [
        "### Lemmatization"
      ],
      "metadata": {
        "id": "wtYg-J6hQcnS"
      }
    },
    {
      "cell_type": "markdown",
      "source": [
        "### Train/Import and Test Model(s)"
      ],
      "metadata": {
        "id": "_VzAIJBz-uon"
      }
    },
    {
      "cell_type": "code",
      "source": [
        "from sklearn.neural_network import MLPClassifier\n",
        "from sklearn import tree\n",
        "import joblib\n",
        "from sklearn.tree import DecisionTreeClassifier\n",
        "\n",
        "MODEL_PATH_CLF = \"/content/drive/MyDrive/COS720 Project/Models/body_classifier.joblib\"\n",
        "\n",
        "try:\n",
        "    clf = joblib.load(MODEL_PATH_CLF)\n",
        "    print(\"Loaded existing model from\", MODEL_PATH_CLF)\n",
        "except FileNotFoundError:\n",
        "    print(\"Model file not found. Training a new model...\")\n",
        "    clf = MLPClassifier(hidden_layer_sizes=(100,),\n",
        "                        activation='logistic',\n",
        "                        solver='adam',\n",
        "                        max_iter=200,\n",
        "                        random_state=0)\n",
        "\n",
        "    clf.fit(X_train_tfidf, target_train)"
      ],
      "metadata": {
        "id": "8kw1qmACVsAX",
        "colab": {
          "base_uri": "https://localhost:8080/"
        },
        "outputId": "691fb747-d846-4995-bfbe-880fd8eac705"
      },
      "execution_count": 43,
      "outputs": [
        {
          "output_type": "stream",
          "name": "stdout",
          "text": [
            "Loaded existing model from /content/drive/MyDrive/COS720 Project/Models/body_classifier.joblib\n"
          ]
        }
      ]
    },
    {
      "cell_type": "markdown",
      "source": [
        "#### Train URL model"
      ],
      "metadata": {
        "id": "dG1y6nd6EeVn"
      }
    },
    {
      "cell_type": "code",
      "source": [
        "from sklearn.metrics import classification_report, accuracy_score\n",
        "\n",
        "MODEL_PATH_URL = \"/content/drive/MyDrive/COS720 Project/Models/mlp_url_classifier.joblib\"\n",
        "\n",
        "try:\n",
        "    mlp = joblib.load(MODEL_PATH_URL)\n",
        "    print(\"Loaded existing model from\", MODEL_PATH_URL)\n",
        "except FileNotFoundError:\n",
        "    print(\"Model file not found. Training a new URL model...\")\n",
        "\n",
        "    mlp = MLPClassifier(\n",
        "        hidden_layer_sizes=(256, 128, 64, 32, 16),\n",
        "        activation='relu',\n",
        "        solver='adam',\n",
        "        max_iter=200,\n",
        "        verbose=True,\n",
        "        random_state=42\n",
        "    )\n",
        "    mlp.fit(X_train_url, target_train_url)"
      ],
      "metadata": {
        "colab": {
          "base_uri": "https://localhost:8080/"
        },
        "id": "UKydjMGVEhBW",
        "outputId": "99b5615f-cfc0-4392-8106-12b0b5d42c6a"
      },
      "execution_count": 44,
      "outputs": [
        {
          "output_type": "stream",
          "name": "stdout",
          "text": [
            "Loaded existing model from /content/drive/MyDrive/COS720 Project/Models/mlp_url_classifier.joblib\n"
          ]
        }
      ]
    },
    {
      "cell_type": "code",
      "source": [
        "joblib.dump(mlp, 'mlp_url_classifier.joblib')"
      ],
      "metadata": {
        "colab": {
          "base_uri": "https://localhost:8080/"
        },
        "id": "P8SDCHmz-m-w",
        "outputId": "972d4e09-a69b-4487-f1dd-eda9222503f2"
      },
      "execution_count": 45,
      "outputs": [
        {
          "output_type": "execute_result",
          "data": {
            "text/plain": [
              "['mlp_url_classifier.joblib']"
            ]
          },
          "metadata": {},
          "execution_count": 45
        }
      ]
    },
    {
      "cell_type": "markdown",
      "source": [
        "# Static URL Classification"
      ],
      "metadata": {
        "id": "DqmvdmB-xwni"
      }
    },
    {
      "cell_type": "markdown",
      "source": [
        "### Testing"
      ],
      "metadata": {
        "id": "zyMFTy-X5Was"
      }
    },
    {
      "cell_type": "code",
      "source": [
        "test_file_path = \"/content/drive/MyDrive/COS720 Project/Datasets/SpamAssasin.csv\"\n",
        "\n",
        "# Evaluate model using different data file from training\n",
        "with open(test_file_path, 'r', encoding='utf-8', errors='replace') as f:\n",
        "  reader = csv.reader(f, quotechar='\"', escapechar='\\\\')\n",
        "  headers = next(reader)\n",
        "  data = []\n",
        "  for row in reader:\n",
        "      if len(row) == len(headers):\n",
        "          data.append(row)\n",
        "  test_df = pd.DataFrame(data, columns=headers)\n",
        "  test_df['label'] = test_df['label'].astype(int)\n",
        "  print(f\"Loaded data with fallback method: {len(test_df)} rows\")\n",
        "\n",
        "# test_df, test_url_df = process_email_data(test_df)\n",
        "# test_url_features_df = process_url_data(test_url_df)\n",
        "\n",
        "y_pred = clf.predict(X_test)\n",
        "y_test = target_test\n",
        "\n",
        "# y_test = test_df['label']\n",
        "# y_pred = clf.predict(test_df['body'])\n",
        "\n",
        "f1 = f1_score(y_test, y_pred)  # by default, pos_label=1\n",
        "print(\"Accuracy:\", accuracy_score(y_test, y_pred))\n",
        "print(\"\\nClassification Report:\\n\", classification_report(y_test, y_pred))"
      ],
      "metadata": {
        "id": "4yZ7d4u4nnsR",
        "colab": {
          "base_uri": "https://localhost:8080/"
        },
        "outputId": "86a594a1-04fe-4561-c196-39f23284c0a7"
      },
      "execution_count": 47,
      "outputs": [
        {
          "output_type": "stream",
          "name": "stdout",
          "text": [
            "Loaded data with fallback method: 5805 rows\n",
            "Accuracy: 0.9960305792413996\n",
            "\n",
            "Classification Report:\n",
            "               precision    recall  f1-score   support\n",
            "\n",
            "           0       1.00      0.99      1.00      5889\n",
            "           1       1.00      1.00      1.00      7715\n",
            "\n",
            "    accuracy                           1.00     13604\n",
            "   macro avg       1.00      1.00      1.00     13604\n",
            "weighted avg       1.00      1.00      1.00     13604\n",
            "\n"
          ]
        }
      ]
    },
    {
      "cell_type": "code",
      "source": [
        "print(X_test_url.head())\n",
        "# x = test_url_features_df.drop(columns=['label'])   # exclude label from features\n",
        "# y = test_url_features_df['label']\n",
        "\n",
        "x = X_test_url\n",
        "y = target_test_url\n",
        "\n",
        "predictions = mlp.predict(x)\n",
        "\n",
        "print(y.dtype)\n",
        "print(y.head())\n",
        "\n",
        "print(\"Accuracy:\", accuracy_score(y, predictions))\n",
        "print(\"\\nClassification Report:\\n\", classification_report(y, predictions))"
      ],
      "metadata": {
        "colab": {
          "base_uri": "https://localhost:8080/"
        },
        "id": "ahE-5KTtHOS_",
        "outputId": "9c272f57-f25f-45cd-e19d-bedc3117c5f6"
      },
      "execution_count": 49,
      "outputs": [
        {
          "output_type": "stream",
          "name": "stdout",
          "text": [
            "         entropy  numDigits  urlLength  numParams  hasHttp  hasHttps  \\\n",
            "91301   4.296229          8         62          0        1         0   \n",
            "118589  4.658370         10         79          2        1         0   \n",
            "101631  4.691232          8         62          0        1         0   \n",
            "55263   3.661226          0         26          0        1         0   \n",
            "131103  3.783465          0         25          0        1         0   \n",
            "\n",
            "        numFragments  numSubDomains  num_%20  num_@  \n",
            "91301              0              1        0      0  \n",
            "118589             0              0        0      0  \n",
            "101631             0              1        0      0  \n",
            "55263              0              1        0      0  \n",
            "131103             0              1        0      0  \n",
            "int64\n",
            "91301     1\n",
            "118589    0\n",
            "101631    1\n",
            "55263     0\n",
            "131103    0\n",
            "Name: label, dtype: int64\n",
            "Accuracy: 0.9568209791263721\n",
            "\n",
            "Classification Report:\n",
            "               precision    recall  f1-score   support\n",
            "\n",
            "           0       0.95      0.93      0.94     14414\n",
            "           1       0.96      0.97      0.97     25397\n",
            "\n",
            "    accuracy                           0.96     39811\n",
            "   macro avg       0.96      0.95      0.95     39811\n",
            "weighted avg       0.96      0.96      0.96     39811\n",
            "\n"
          ]
        }
      ]
    },
    {
      "cell_type": "markdown",
      "source": [
        "# Explainability"
      ],
      "metadata": {
        "id": "VTAAxBn3-gsJ"
      }
    },
    {
      "cell_type": "code",
      "source": [
        "import subprocess\n",
        "\n",
        "def custom_tokenizer(text):\n",
        "    pattern = r\"\\[[^\\]]+\\]|<[^>]+>|\\w+\"\n",
        "    return re.findall(pattern, text)\n",
        "try:\n",
        "    from lime.lime_text import LimeTextExplainer\n",
        "except ImportError:\n",
        "    subprocess.check_call([sys.executable, \"-m\", \"pip\", \"install\", \"lime\"])\n",
        "    from lime.lime_text import LimeTextExplainer\n",
        "\n",
        "sample_data = test_df['body'].iloc[5799]\n",
        "explainer = LimeTextExplainer(class_names=[\"benign\",\"phishing\"], split_expression=custom_tokenizer)\n",
        "exp = explainer.explain_instance(sample_data, clf.predict_proba, num_features=10, labels=[1])\n",
        "exp.show_in_notebook()\n",
        "exp.as_html()"
      ],
      "metadata": {
        "id": "TXjpoYXX-flw"
      },
      "execution_count": null,
      "outputs": []
    }
  ]
}